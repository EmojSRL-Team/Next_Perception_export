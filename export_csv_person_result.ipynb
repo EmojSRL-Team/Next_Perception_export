{
 "cells": [
  {
   "cell_type": "code",
   "execution_count": 20,
   "id": "017ce2b5-1a51-43e7-b858-99ca5d83b45c",
   "metadata": {
    "tags": []
   },
   "outputs": [],
   "source": [
    "import csv\n",
    "import boto3\n",
    "import os\n",
    "import json\n",
    "import datetime\n",
    "\n",
    "BUCKET = \"relab-simulator-logs\"\n",
    "INPUT_FOLDER = \"DATI_NP_2301/dati_NP_2301\"\n",
    "LOCAL_OUTPUT_FOLDER = \"./data/output/\"\n",
    "OUTPUT_FILE = LOCAL_OUTPUT_FOLDER + \"LOG.csv\"\n"
   ]
  },
  {
   "cell_type": "code",
   "execution_count": 21,
   "id": "74d35910-47b2-4678-9efb-4d786ecc6b02",
   "metadata": {
    "tags": []
   },
   "outputs": [],
   "source": [
    "def list_s3_files_using_client():\n",
    "    \"\"\"\n",
    "    This functions list all files in s3 bucket.\n",
    "    :return: files\n",
    "    \"\"\"\n",
    "\n",
    "    s3_client = boto3.client(\"s3\")\n",
    "    bucket_name = BUCKET\n",
    "    response = s3_client.list_objects_v2(Bucket=bucket_name, Prefix= INPUT_FOLDER)\n",
    "    files = response.get(\"Contents\")\n",
    "    #for file in files:\n",
    "        #print(f\"file_name: {file['Key']}, size: {file['Size']}\")\n",
    "    return files"
   ]
  },
  {
   "cell_type": "code",
   "execution_count": 22,
   "id": "50656d6c-d462-4fbd-bd67-b28a5a78a396",
   "metadata": {
    "tags": []
   },
   "outputs": [],
   "source": [
    "def get_Unix_Timestamp(timestamp):\n",
    "    given_date = timestamp #\"2022-06-20T13:23:36.978298\"\n",
    "    formated_date = datetime.datetime.strptime(given_date,\"%Y-%m-%dT%H:%M:%S.%f\")\n",
    "    Unix_timestamp = datetime.datetime.timestamp(formated_date)\n",
    "    #print(\"The Unix timestamp for the given input date is:\")\n",
    "    return Unix_timestamp\n",
    "\n",
    "def get_absolute_timestamp(dictionary):\n",
    "    timestamp = 0\n",
    "    if \"timestamp\" in dictionary :\n",
    "        \n",
    "        timestamp = dictionary[\"timestamp\"]\n",
    "        if 'T' in str(timestamp):\n",
    "            \n",
    "            timestamp = get_Unix_Timestamp(timestamp)\n",
    "            #print(line)\n",
    "                \n",
    "    elif \"VehicleDynamics\" in dictionary.keys() and \"timestamp\" in dictionary[\"VehicleDynamics\"]:\n",
    "        timestamp = dictionary[\"VehicleDynamics\"][\"timestamp\"]\n",
    "        if 'T' in str(timestamp):\n",
    "            \n",
    "            timestamp = get_Unix_Timestamp(timestamp)\n",
    "    elif \"person0\" in dictionary.keys() and \"timestamp\" in dictionary[\"person0\"]:\n",
    "                timestamp = dictionary[\"person0\"][\"timestamp\"]\n",
    "                if 'T' in str(timestamp):\n",
    "                    timestamp = get_Unix_Timestamp(timestamp)\n",
    "    return timestamp\n",
    "               \n",
    "                \n",
    "    \n",
    "\n",
    "def get_first_timestamp_value(log_file):\n",
    "    first_timestamp_relab = 0\n",
    "    first_timestamp_unibo = 0\n",
    "    with open(log_file) as f:\n",
    "        while True:\n",
    "        \n",
    "            line = f.readline()\n",
    "            \n",
    "            line_data =  json.loads(line)\n",
    "            if \"timestamp_relab\" in line_data and \"timestamp_unibo\" in line_data  :\n",
    "                first_timestamp_relab = line_data[\"timestamp_relab\"]\n",
    "                first_timestamp_unibo = line_data[\"timestamp_unibo\"]\n",
    "                \n",
    "                break\n",
    "           \n",
    "            if not line:\n",
    "                break\n",
    "    return [first_timestamp_relab, first_timestamp_unibo]\n",
    "\n",
    "def get_dict_keys(dictionary,prepend = \"\"):\n",
    "    \n",
    "    result =[]\n",
    "    delimiter = \"_\"\n",
    "    for key in dictionary.keys():\n",
    "        if(isinstance(dictionary[key], dict)):\n",
    "            result += get_dict_keys(dictionary[key], prepend + key + delimiter)\n",
    "        else:\n",
    "            result.append(prepend + key)\n",
    "    return result\n",
    "\n",
    "def get_dict_values(dictionary,prepend = \"\"):\n",
    "    \n",
    "    result =[]\n",
    "    delimiter = \"_\"\n",
    "    for key in dictionary.keys():\n",
    "        if(isinstance(dictionary[key], dict)):\n",
    "            result += get_dict_values(dictionary[key], prepend + key + delimiter)\n",
    "        else:\n",
    "            result.append(dictionary[key])\n",
    "    return result\n"
   ]
  },
  {
   "cell_type": "code",
   "execution_count": 23,
   "id": "a4b7feab-5c4a-4abe-a69b-d115f4fb519f",
   "metadata": {
    "tags": []
   },
   "outputs": [],
   "source": [
    "def export_log_to_csv(log_file):\n",
    "    session = log_file.split('/')[-2]\n",
    "    print(\"exporting log file for session ::: \" + session)\n",
    "    \n",
    "    [first_timestamp_relab, first_timestamp_unibo] = get_first_timestamp_value(log_file)\n",
    "    timestamp_s = 0\n",
    "    #emoj_timestamp_tracker = initial_timestamp\n",
    "    \n",
    "    \n",
    "    file_exists =os.path.isfile(OUTPUT_FILE)\n",
    "    \n",
    "    with open(OUTPUT_FILE, \"a\") as output_csvfile:\n",
    "        csv_writer = csv.writer(output_csvfile, delimiter=',')\n",
    "        with open(log_file) as f:\n",
    "            \n",
    "            \n",
    "            while True:\n",
    "                line = f.readline()\n",
    "                try:   \n",
    "                    \n",
    "                    data = json.loads(line)\n",
    "                    \n",
    "                    \n",
    "                    if not file_exists: #file_exists:\n",
    "                        headers = ['session','timestamp(s)', 'relative_relab_timestamp','relative_unibo_timestamp'] + get_dict_keys(data)\n",
    "                        csv_writer.writerow(headers)\n",
    "                        print (headers)\n",
    "                        file_exists = True\n",
    "                    relative_relab_timestamp = data[\"timestamp_relab\"] - first_timestamp_relab \n",
    "                    relative_unibo_timestamp = data[\"timestamp_unibo\"] - first_timestamp_unibo\n",
    "                    \n",
    "                    \n",
    "                    \n",
    "                    \n",
    "                    values_to_write = [session,timestamp_s,relative_relab_timestamp,relative_unibo_timestamp] +  get_dict_values(data)\n",
    "                    csv_writer.writerow(values_to_write)\n",
    "                    timestamp_s += 1\n",
    "                except Exception as e:\n",
    "                    print(line)\n",
    "                    print(\"Error: \" + str(e))\n",
    "                    break\n",
    "    \n",
    "    \n",
    "    "
   ]
  },
  {
   "cell_type": "code",
   "execution_count": 24,
   "id": "db03cd84-5f15-4726-a2ea-ee2db6700213",
   "metadata": {
    "tags": []
   },
   "outputs": [],
   "source": [
    "files = list_s3_files_using_client()"
   ]
  },
  {
   "cell_type": "code",
   "execution_count": 26,
   "id": "8fb75cac-b578-4167-a660-9f4e64b003f8",
   "metadata": {},
   "outputs": [],
   "source": [
    "BUCKET = \"relab-simulator-logs\"\n",
    "OUTPUT_FOLDER = \"Prepared_data\"\n",
    "files_to_load = [\"LOG.csv\"]\n",
    "LOCAL_OUTPUT_FOLDER = \"data/output/\"\n",
    "for file in files_to_load:\n",
    "    boto3.Session().resource('s3').Bucket(BUCKET).Object(OUTPUT_FOLDER + '/LOG/' + file).upload_file( LOCAL_OUTPUT_FOLDER + file)\n"
   ]
  },
  {
   "cell_type": "code",
   "execution_count": null,
   "id": "b9b01b94-4cc2-4197-aa7a-4c8ab029340d",
   "metadata": {},
   "outputs": [],
   "source": []
  }
 ],
 "metadata": {
  "availableInstances": [
   {
    "_defaultOrder": 0,
    "_isFastLaunch": true,
    "category": "General purpose",
    "gpuNum": 0,
    "memoryGiB": 4,
    "name": "ml.t3.medium",
    "vcpuNum": 2
   },
   {
    "_defaultOrder": 1,
    "_isFastLaunch": false,
    "category": "General purpose",
    "gpuNum": 0,
    "memoryGiB": 8,
    "name": "ml.t3.large",
    "vcpuNum": 2
   },
   {
    "_defaultOrder": 2,
    "_isFastLaunch": false,
    "category": "General purpose",
    "gpuNum": 0,
    "memoryGiB": 16,
    "name": "ml.t3.xlarge",
    "vcpuNum": 4
   },
   {
    "_defaultOrder": 3,
    "_isFastLaunch": false,
    "category": "General purpose",
    "gpuNum": 0,
    "memoryGiB": 32,
    "name": "ml.t3.2xlarge",
    "vcpuNum": 8
   },
   {
    "_defaultOrder": 4,
    "_isFastLaunch": true,
    "category": "General purpose",
    "gpuNum": 0,
    "memoryGiB": 8,
    "name": "ml.m5.large",
    "vcpuNum": 2
   },
   {
    "_defaultOrder": 5,
    "_isFastLaunch": false,
    "category": "General purpose",
    "gpuNum": 0,
    "memoryGiB": 16,
    "name": "ml.m5.xlarge",
    "vcpuNum": 4
   },
   {
    "_defaultOrder": 6,
    "_isFastLaunch": false,
    "category": "General purpose",
    "gpuNum": 0,
    "memoryGiB": 32,
    "name": "ml.m5.2xlarge",
    "vcpuNum": 8
   },
   {
    "_defaultOrder": 7,
    "_isFastLaunch": false,
    "category": "General purpose",
    "gpuNum": 0,
    "memoryGiB": 64,
    "name": "ml.m5.4xlarge",
    "vcpuNum": 16
   },
   {
    "_defaultOrder": 8,
    "_isFastLaunch": false,
    "category": "General purpose",
    "gpuNum": 0,
    "memoryGiB": 128,
    "name": "ml.m5.8xlarge",
    "vcpuNum": 32
   },
   {
    "_defaultOrder": 9,
    "_isFastLaunch": false,
    "category": "General purpose",
    "gpuNum": 0,
    "memoryGiB": 192,
    "name": "ml.m5.12xlarge",
    "vcpuNum": 48
   },
   {
    "_defaultOrder": 10,
    "_isFastLaunch": false,
    "category": "General purpose",
    "gpuNum": 0,
    "memoryGiB": 256,
    "name": "ml.m5.16xlarge",
    "vcpuNum": 64
   },
   {
    "_defaultOrder": 11,
    "_isFastLaunch": false,
    "category": "General purpose",
    "gpuNum": 0,
    "memoryGiB": 384,
    "name": "ml.m5.24xlarge",
    "vcpuNum": 96
   },
   {
    "_defaultOrder": 12,
    "_isFastLaunch": false,
    "category": "General purpose",
    "gpuNum": 0,
    "memoryGiB": 8,
    "name": "ml.m5d.large",
    "vcpuNum": 2
   },
   {
    "_defaultOrder": 13,
    "_isFastLaunch": false,
    "category": "General purpose",
    "gpuNum": 0,
    "memoryGiB": 16,
    "name": "ml.m5d.xlarge",
    "vcpuNum": 4
   },
   {
    "_defaultOrder": 14,
    "_isFastLaunch": false,
    "category": "General purpose",
    "gpuNum": 0,
    "memoryGiB": 32,
    "name": "ml.m5d.2xlarge",
    "vcpuNum": 8
   },
   {
    "_defaultOrder": 15,
    "_isFastLaunch": false,
    "category": "General purpose",
    "gpuNum": 0,
    "memoryGiB": 64,
    "name": "ml.m5d.4xlarge",
    "vcpuNum": 16
   },
   {
    "_defaultOrder": 16,
    "_isFastLaunch": false,
    "category": "General purpose",
    "gpuNum": 0,
    "memoryGiB": 128,
    "name": "ml.m5d.8xlarge",
    "vcpuNum": 32
   },
   {
    "_defaultOrder": 17,
    "_isFastLaunch": false,
    "category": "General purpose",
    "gpuNum": 0,
    "memoryGiB": 192,
    "name": "ml.m5d.12xlarge",
    "vcpuNum": 48
   },
   {
    "_defaultOrder": 18,
    "_isFastLaunch": false,
    "category": "General purpose",
    "gpuNum": 0,
    "memoryGiB": 256,
    "name": "ml.m5d.16xlarge",
    "vcpuNum": 64
   },
   {
    "_defaultOrder": 19,
    "_isFastLaunch": false,
    "category": "General purpose",
    "gpuNum": 0,
    "memoryGiB": 384,
    "name": "ml.m5d.24xlarge",
    "vcpuNum": 96
   },
   {
    "_defaultOrder": 20,
    "_isFastLaunch": true,
    "category": "Compute optimized",
    "gpuNum": 0,
    "memoryGiB": 4,
    "name": "ml.c5.large",
    "vcpuNum": 2
   },
   {
    "_defaultOrder": 21,
    "_isFastLaunch": false,
    "category": "Compute optimized",
    "gpuNum": 0,
    "memoryGiB": 8,
    "name": "ml.c5.xlarge",
    "vcpuNum": 4
   },
   {
    "_defaultOrder": 22,
    "_isFastLaunch": false,
    "category": "Compute optimized",
    "gpuNum": 0,
    "memoryGiB": 16,
    "name": "ml.c5.2xlarge",
    "vcpuNum": 8
   },
   {
    "_defaultOrder": 23,
    "_isFastLaunch": false,
    "category": "Compute optimized",
    "gpuNum": 0,
    "memoryGiB": 32,
    "name": "ml.c5.4xlarge",
    "vcpuNum": 16
   },
   {
    "_defaultOrder": 24,
    "_isFastLaunch": false,
    "category": "Compute optimized",
    "gpuNum": 0,
    "memoryGiB": 72,
    "name": "ml.c5.9xlarge",
    "vcpuNum": 36
   },
   {
    "_defaultOrder": 25,
    "_isFastLaunch": false,
    "category": "Compute optimized",
    "gpuNum": 0,
    "memoryGiB": 96,
    "name": "ml.c5.12xlarge",
    "vcpuNum": 48
   },
   {
    "_defaultOrder": 26,
    "_isFastLaunch": false,
    "category": "Compute optimized",
    "gpuNum": 0,
    "memoryGiB": 144,
    "name": "ml.c5.18xlarge",
    "vcpuNum": 72
   },
   {
    "_defaultOrder": 27,
    "_isFastLaunch": false,
    "category": "Compute optimized",
    "gpuNum": 0,
    "memoryGiB": 192,
    "name": "ml.c5.24xlarge",
    "vcpuNum": 96
   },
   {
    "_defaultOrder": 28,
    "_isFastLaunch": true,
    "category": "Accelerated computing",
    "gpuNum": 1,
    "memoryGiB": 16,
    "name": "ml.g4dn.xlarge",
    "vcpuNum": 4
   },
   {
    "_defaultOrder": 29,
    "_isFastLaunch": false,
    "category": "Accelerated computing",
    "gpuNum": 1,
    "memoryGiB": 32,
    "name": "ml.g4dn.2xlarge",
    "vcpuNum": 8
   },
   {
    "_defaultOrder": 30,
    "_isFastLaunch": false,
    "category": "Accelerated computing",
    "gpuNum": 1,
    "memoryGiB": 64,
    "name": "ml.g4dn.4xlarge",
    "vcpuNum": 16
   },
   {
    "_defaultOrder": 31,
    "_isFastLaunch": false,
    "category": "Accelerated computing",
    "gpuNum": 1,
    "memoryGiB": 128,
    "name": "ml.g4dn.8xlarge",
    "vcpuNum": 32
   },
   {
    "_defaultOrder": 32,
    "_isFastLaunch": false,
    "category": "Accelerated computing",
    "gpuNum": 4,
    "memoryGiB": 192,
    "name": "ml.g4dn.12xlarge",
    "vcpuNum": 48
   },
   {
    "_defaultOrder": 33,
    "_isFastLaunch": false,
    "category": "Accelerated computing",
    "gpuNum": 1,
    "memoryGiB": 256,
    "name": "ml.g4dn.16xlarge",
    "vcpuNum": 64
   },
   {
    "_defaultOrder": 34,
    "_isFastLaunch": false,
    "category": "Accelerated computing",
    "gpuNum": 1,
    "memoryGiB": 61,
    "name": "ml.p3.2xlarge",
    "vcpuNum": 8
   },
   {
    "_defaultOrder": 35,
    "_isFastLaunch": false,
    "category": "Accelerated computing",
    "gpuNum": 4,
    "memoryGiB": 244,
    "name": "ml.p3.8xlarge",
    "vcpuNum": 32
   },
   {
    "_defaultOrder": 36,
    "_isFastLaunch": false,
    "category": "Accelerated computing",
    "gpuNum": 8,
    "memoryGiB": 488,
    "name": "ml.p3.16xlarge",
    "vcpuNum": 64
   },
   {
    "_defaultOrder": 37,
    "_isFastLaunch": false,
    "category": "Accelerated computing",
    "gpuNum": 8,
    "memoryGiB": 768,
    "name": "ml.p3dn.24xlarge",
    "vcpuNum": 96
   },
   {
    "_defaultOrder": 38,
    "_isFastLaunch": false,
    "category": "Memory Optimized",
    "gpuNum": 0,
    "memoryGiB": 16,
    "name": "ml.r5.large",
    "vcpuNum": 2
   },
   {
    "_defaultOrder": 39,
    "_isFastLaunch": false,
    "category": "Memory Optimized",
    "gpuNum": 0,
    "memoryGiB": 32,
    "name": "ml.r5.xlarge",
    "vcpuNum": 4
   },
   {
    "_defaultOrder": 40,
    "_isFastLaunch": false,
    "category": "Memory Optimized",
    "gpuNum": 0,
    "memoryGiB": 64,
    "name": "ml.r5.2xlarge",
    "vcpuNum": 8
   },
   {
    "_defaultOrder": 41,
    "_isFastLaunch": false,
    "category": "Memory Optimized",
    "gpuNum": 0,
    "memoryGiB": 128,
    "name": "ml.r5.4xlarge",
    "vcpuNum": 16
   },
   {
    "_defaultOrder": 42,
    "_isFastLaunch": false,
    "category": "Memory Optimized",
    "gpuNum": 0,
    "memoryGiB": 256,
    "name": "ml.r5.8xlarge",
    "vcpuNum": 32
   },
   {
    "_defaultOrder": 43,
    "_isFastLaunch": false,
    "category": "Memory Optimized",
    "gpuNum": 0,
    "memoryGiB": 384,
    "name": "ml.r5.12xlarge",
    "vcpuNum": 48
   },
   {
    "_defaultOrder": 44,
    "_isFastLaunch": false,
    "category": "Memory Optimized",
    "gpuNum": 0,
    "memoryGiB": 512,
    "name": "ml.r5.16xlarge",
    "vcpuNum": 64
   },
   {
    "_defaultOrder": 45,
    "_isFastLaunch": false,
    "category": "Memory Optimized",
    "gpuNum": 0,
    "memoryGiB": 768,
    "name": "ml.r5.24xlarge",
    "vcpuNum": 96
   },
   {
    "_defaultOrder": 46,
    "_isFastLaunch": false,
    "category": "Accelerated computing",
    "gpuNum": 1,
    "memoryGiB": 16,
    "name": "ml.g5.xlarge",
    "vcpuNum": 4
   },
   {
    "_defaultOrder": 47,
    "_isFastLaunch": false,
    "category": "Accelerated computing",
    "gpuNum": 1,
    "memoryGiB": 32,
    "name": "ml.g5.2xlarge",
    "vcpuNum": 8
   },
   {
    "_defaultOrder": 48,
    "_isFastLaunch": false,
    "category": "Accelerated computing",
    "gpuNum": 1,
    "memoryGiB": 64,
    "name": "ml.g5.4xlarge",
    "vcpuNum": 16
   },
   {
    "_defaultOrder": 49,
    "_isFastLaunch": false,
    "category": "Accelerated computing",
    "gpuNum": 1,
    "memoryGiB": 128,
    "name": "ml.g5.8xlarge",
    "vcpuNum": 32
   },
   {
    "_defaultOrder": 50,
    "_isFastLaunch": false,
    "category": "Accelerated computing",
    "gpuNum": 1,
    "memoryGiB": 256,
    "name": "ml.g5.16xlarge",
    "vcpuNum": 64
   },
   {
    "_defaultOrder": 51,
    "_isFastLaunch": false,
    "category": "Accelerated computing",
    "gpuNum": 4,
    "memoryGiB": 192,
    "name": "ml.g5.12xlarge",
    "vcpuNum": 48
   },
   {
    "_defaultOrder": 52,
    "_isFastLaunch": false,
    "category": "Accelerated computing",
    "gpuNum": 4,
    "memoryGiB": 384,
    "name": "ml.g5.24xlarge",
    "vcpuNum": 96
   },
   {
    "_defaultOrder": 53,
    "_isFastLaunch": false,
    "category": "Accelerated computing",
    "gpuNum": 8,
    "memoryGiB": 768,
    "name": "ml.g5.48xlarge",
    "vcpuNum": 192
   }
  ],
  "instance_type": "ml.t3.medium",
  "kernelspec": {
   "display_name": "Python 3 (Data Science)",
   "language": "python",
   "name": "python3__SAGEMAKER_INTERNAL__arn:aws:sagemaker:eu-central-1:936697816551:image/datascience-1.0"
  },
  "language_info": {
   "codemirror_mode": {
    "name": "ipython",
    "version": 3
   },
   "file_extension": ".py",
   "mimetype": "text/x-python",
   "name": "python",
   "nbconvert_exporter": "python",
   "pygments_lexer": "ipython3",
   "version": "3.7.10"
  },
  "toc-autonumbering": false,
  "toc-showcode": false,
  "toc-showmarkdowntxt": false
 },
 "nbformat": 4,
 "nbformat_minor": 5
}
